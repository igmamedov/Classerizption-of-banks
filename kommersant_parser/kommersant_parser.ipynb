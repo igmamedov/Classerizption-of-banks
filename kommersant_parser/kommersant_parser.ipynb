{
 "cells": [
  {
   "cell_type": "code",
   "execution_count": 15,
   "metadata": {},
   "outputs": [],
   "source": [
    "from functions import *"
   ]
  },
  {
   "cell_type": "code",
   "execution_count": 7,
   "metadata": {},
   "outputs": [],
   "source": [
    "personal_login = 'ilgar_mam@mail.ru'\n",
    "personal_password = '270702Ilgar!'\n",
    "\n",
    "banks = ['Сбербанк', 'ВТБ', 'Тинькофф']\n",
    "n_pages = 3\n",
    "\n",
    "start = '2020-11-06'\n",
    "end = '2023-11-06'"
   ]
  },
  {
   "cell_type": "code",
   "execution_count": 10,
   "metadata": {},
   "outputs": [
    {
     "name": "stdout",
     "output_type": "stream",
     "text": [
      "Ищу статьи для: Сбербанк (1 из 3)\n"
     ]
    },
    {
     "name": "stderr",
     "output_type": "stream",
     "text": [
      "100%|██████████| 3/3 [00:12<00:00,  4.30s/it]\n"
     ]
    },
    {
     "name": "stdout",
     "output_type": "stream",
     "text": [
      "Ищу статьи для: ВТБ (2 из 3)\n"
     ]
    },
    {
     "name": "stderr",
     "output_type": "stream",
     "text": [
      "100%|██████████| 3/3 [00:11<00:00,  3.84s/it]\n"
     ]
    },
    {
     "name": "stdout",
     "output_type": "stream",
     "text": [
      "Ищу статьи для: Тинькофф (3 из 3)\n"
     ]
    },
    {
     "name": "stderr",
     "output_type": "stream",
     "text": [
      "100%|██████████| 3/3 [00:12<00:00,  4.04s/it]\n",
      "Обработка ссылок: 100%|██████████| 88/88 [03:02<00:00,  2.07s/it]\n"
     ]
    }
   ],
   "source": [
    "link_data = news_parser(personal_login, personal_password, banks, n_pages, start, end, auth_type='hand')"
   ]
  },
  {
   "cell_type": "code",
   "execution_count": 14,
   "metadata": {},
   "outputs": [
    {
     "data": {
      "text/html": [
       "<div>\n",
       "<style scoped>\n",
       "    .dataframe tbody tr th:only-of-type {\n",
       "        vertical-align: middle;\n",
       "    }\n",
       "\n",
       "    .dataframe tbody tr th {\n",
       "        vertical-align: top;\n",
       "    }\n",
       "\n",
       "    .dataframe thead th {\n",
       "        text-align: right;\n",
       "    }\n",
       "</style>\n",
       "<table border=\"1\" class=\"dataframe\">\n",
       "  <thead>\n",
       "    <tr style=\"text-align: right;\">\n",
       "      <th></th>\n",
       "      <th>bank</th>\n",
       "      <th>href</th>\n",
       "      <th>paper_text</th>\n",
       "      <th>title</th>\n",
       "      <th>suptitle</th>\n",
       "      <th>datetime</th>\n",
       "    </tr>\n",
       "  </thead>\n",
       "  <tbody>\n",
       "    <tr>\n",
       "      <th>0</th>\n",
       "      <td>Сбербанк</td>\n",
       "      <td>https://www.kommersant.ru/doc/6319798?query=%D...</td>\n",
       "      <td>Крупные российские разработчики базовых станци...</td>\n",
       "      <td>\\n                Электронику подключили к рын...</td>\n",
       "      <td>\\n                У льготных кредитов для прои...</td>\n",
       "      <td>03.11.2023, 00:45</td>\n",
       "    </tr>\n",
       "    <tr>\n",
       "      <th>1</th>\n",
       "      <td>Сбербанк</td>\n",
       "      <td>https://www.kommersant.ru/doc/6319984?query=%D...</td>\n",
       "      <td>Планируется законодательно возложить на нотари...</td>\n",
       "      <td>\\n                Нотариат вписывают в легализ...</td>\n",
       "      <td>\\n                Ряды борцов с отмыванием пре...</td>\n",
       "      <td>03.11.2023, 00:45</td>\n",
       "    </tr>\n",
       "    <tr>\n",
       "      <th>2</th>\n",
       "      <td>Сбербанк</td>\n",
       "      <td>https://www.kommersant.ru/doc/6319935?query=%D...</td>\n",
       "      <td>Чистая процентная маржа Сбербанка впервые за н...</td>\n",
       "      <td>\\nСбербанк укрепился рублем\\n</td>\n",
       "      <td>\\n                Банк структурировал баланс н...</td>\n",
       "      <td>02.11.2023, 22:40</td>\n",
       "    </tr>\n",
       "    <tr>\n",
       "      <th>3</th>\n",
       "      <td>Сбербанк</td>\n",
       "      <td>https://www.kommersant.ru/doc/6312432?query=%D...</td>\n",
       "      <td>Подконтрольная ADG Group компания, строящая на...</td>\n",
       "      <td>\\n                ВТБ назначил «Место встречи»...</td>\n",
       "      <td>\\n                Советские кинотеатры в Москв...</td>\n",
       "      <td>02.11.2023, 01:04</td>\n",
       "    </tr>\n",
       "    <tr>\n",
       "      <th>4</th>\n",
       "      <td>Сбербанк</td>\n",
       "      <td>https://www.kommersant.ru/doc/6311830?query=%D...</td>\n",
       "      <td>Банки пока сдержанно реагируют на повышение кл...</td>\n",
       "      <td>\\n                Банки придерживают депозиты\\...</td>\n",
       "      <td>\\n                Ставки по вкладам граждан на...</td>\n",
       "      <td>01.11.2023, 01:22</td>\n",
       "    </tr>\n",
       "    <tr>\n",
       "      <th>...</th>\n",
       "      <td>...</td>\n",
       "      <td>...</td>\n",
       "      <td>...</td>\n",
       "      <td>...</td>\n",
       "      <td>...</td>\n",
       "      <td>...</td>\n",
       "    </tr>\n",
       "    <tr>\n",
       "      <th>83</th>\n",
       "      <td>Тинькофф</td>\n",
       "      <td>https://www.kommersant.ru/doc/6172830?query=%D...</td>\n",
       "      <td>Ульяновский облсуд в понедельник отменил регис...</td>\n",
       "      <td>\\n                Избирательное право попало п...</td>\n",
       "      <td>\\n                Ульяновский суд снял с выбор...</td>\n",
       "      <td>22.08.2023, 02:00</td>\n",
       "    </tr>\n",
       "    <tr>\n",
       "      <th>84</th>\n",
       "      <td>Тинькофф</td>\n",
       "      <td>https://www.kommersant.ru/doc/6161316?query=%D...</td>\n",
       "      <td>Центр общественных процедур «Бизнес против кор...</td>\n",
       "      <td>\\n                Домашний арест помешал бизне...</td>\n",
       "      <td>\\n                Елена Блиновская пожаловалас...</td>\n",
       "      <td>16.08.2023, 00:41</td>\n",
       "    </tr>\n",
       "    <tr>\n",
       "      <th>85</th>\n",
       "      <td>Тинькофф</td>\n",
       "      <td>https://www.kommersant.ru/doc/6161355?query=%D...</td>\n",
       "      <td>Рынок BNPL (buy now pay later, «покупай сейчас...</td>\n",
       "      <td>\\n                Микрофинансы дробят платежи\\...</td>\n",
       "      <td>\\n                На рынке рассрочки может поя...</td>\n",
       "      <td>16.08.2023, 00:41</td>\n",
       "    </tr>\n",
       "    <tr>\n",
       "      <th>86</th>\n",
       "      <td>Тинькофф</td>\n",
       "      <td>https://www.kommersant.ru/doc/6149126?query=%D...</td>\n",
       "      <td>В среду ЦБ сообщил, что пробные операции с циф...</td>\n",
       "      <td>\\n                Эксперимент не для всех\\n   ...</td>\n",
       "      <td>\\n                Ксения Дементьева об осторож...</td>\n",
       "      <td>10.08.2023, 00:43</td>\n",
       "    </tr>\n",
       "    <tr>\n",
       "      <th>87</th>\n",
       "      <td>Тинькофф</td>\n",
       "      <td>https://www.kommersant.ru/doc/6136867?query=%D...</td>\n",
       "      <td>Российский банковский сектор в первом полугоди...</td>\n",
       "      <td>\\n                Банкам перевелась комиссия\\n...</td>\n",
       "      <td>\\n                Сектор получил трансграничны...</td>\n",
       "      <td>02.08.2023, 01:21</td>\n",
       "    </tr>\n",
       "  </tbody>\n",
       "</table>\n",
       "<p>88 rows × 6 columns</p>\n",
       "</div>"
      ],
      "text/plain": [
       "        bank                                               href  \\\n",
       "0   Сбербанк  https://www.kommersant.ru/doc/6319798?query=%D...   \n",
       "1   Сбербанк  https://www.kommersant.ru/doc/6319984?query=%D...   \n",
       "2   Сбербанк  https://www.kommersant.ru/doc/6319935?query=%D...   \n",
       "3   Сбербанк  https://www.kommersant.ru/doc/6312432?query=%D...   \n",
       "4   Сбербанк  https://www.kommersant.ru/doc/6311830?query=%D...   \n",
       "..       ...                                                ...   \n",
       "83  Тинькофф  https://www.kommersant.ru/doc/6172830?query=%D...   \n",
       "84  Тинькофф  https://www.kommersant.ru/doc/6161316?query=%D...   \n",
       "85  Тинькофф  https://www.kommersant.ru/doc/6161355?query=%D...   \n",
       "86  Тинькофф  https://www.kommersant.ru/doc/6149126?query=%D...   \n",
       "87  Тинькофф  https://www.kommersant.ru/doc/6136867?query=%D...   \n",
       "\n",
       "                                           paper_text  \\\n",
       "0   Крупные российские разработчики базовых станци...   \n",
       "1   Планируется законодательно возложить на нотари...   \n",
       "2   Чистая процентная маржа Сбербанка впервые за н...   \n",
       "3   Подконтрольная ADG Group компания, строящая на...   \n",
       "4   Банки пока сдержанно реагируют на повышение кл...   \n",
       "..                                                ...   \n",
       "83  Ульяновский облсуд в понедельник отменил регис...   \n",
       "84  Центр общественных процедур «Бизнес против кор...   \n",
       "85  Рынок BNPL (buy now pay later, «покупай сейчас...   \n",
       "86  В среду ЦБ сообщил, что пробные операции с циф...   \n",
       "87  Российский банковский сектор в первом полугоди...   \n",
       "\n",
       "                                                title  \\\n",
       "0   \\n                Электронику подключили к рын...   \n",
       "1   \\n                Нотариат вписывают в легализ...   \n",
       "2           \\nСбербанк укрепился рублем\\n               \n",
       "3   \\n                ВТБ назначил «Место встречи»...   \n",
       "4   \\n                Банки придерживают депозиты\\...   \n",
       "..                                                ...   \n",
       "83  \\n                Избирательное право попало п...   \n",
       "84  \\n                Домашний арест помешал бизне...   \n",
       "85  \\n                Микрофинансы дробят платежи\\...   \n",
       "86  \\n                Эксперимент не для всех\\n   ...   \n",
       "87  \\n                Банкам перевелась комиссия\\n...   \n",
       "\n",
       "                                             suptitle           datetime  \n",
       "0   \\n                У льготных кредитов для прои...  03.11.2023, 00:45  \n",
       "1   \\n                Ряды борцов с отмыванием пре...  03.11.2023, 00:45  \n",
       "2   \\n                Банк структурировал баланс н...  02.11.2023, 22:40  \n",
       "3   \\n                Советские кинотеатры в Москв...  02.11.2023, 01:04  \n",
       "4   \\n                Ставки по вкладам граждан на...  01.11.2023, 01:22  \n",
       "..                                                ...                ...  \n",
       "83  \\n                Ульяновский суд снял с выбор...  22.08.2023, 02:00  \n",
       "84  \\n                Елена Блиновская пожаловалас...  16.08.2023, 00:41  \n",
       "85  \\n                На рынке рассрочки может поя...  16.08.2023, 00:41  \n",
       "86  \\n                Ксения Дементьева об осторож...  10.08.2023, 00:43  \n",
       "87  \\n                Сектор получил трансграничны...  02.08.2023, 01:21  \n",
       "\n",
       "[88 rows x 6 columns]"
      ]
     },
     "execution_count": 14,
     "metadata": {},
     "output_type": "execute_result"
    }
   ],
   "source": [
    "link_data"
   ]
  },
  {
   "cell_type": "code",
   "execution_count": 13,
   "metadata": {},
   "outputs": [],
   "source": [
    "link_data.to_excel('Новости коммераснат.xlsx')"
   ]
  },
  {
   "cell_type": "markdown",
   "metadata": {},
   "source": [
    "___"
   ]
  }
 ],
 "metadata": {
  "kernelspec": {
   "display_name": "Python 3",
   "language": "python",
   "name": "python3"
  },
  "language_info": {
   "codemirror_mode": {
    "name": "ipython",
    "version": 3
   },
   "file_extension": ".py",
   "mimetype": "text/x-python",
   "name": "python",
   "nbconvert_exporter": "python",
   "pygments_lexer": "ipython3",
   "version": "3.9.13"
  }
 },
 "nbformat": 4,
 "nbformat_minor": 2
}

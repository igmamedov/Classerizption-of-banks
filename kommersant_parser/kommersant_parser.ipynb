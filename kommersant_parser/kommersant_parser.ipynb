{
 "cells": [
  {
   "cell_type": "code",
   "execution_count": 1,
   "metadata": {},
   "outputs": [],
   "source": [
    "from functions import *"
   ]
  },
  {
   "cell_type": "code",
   "execution_count": 2,
   "metadata": {},
   "outputs": [],
   "source": [
    "personal_login = 'ilgar_mam@mail.ru'\n",
    "personal_password = '270702Ilgar!'\n",
    "\n",
    "n_pages = 100"
   ]
  },
  {
   "cell_type": "code",
   "execution_count": 3,
   "metadata": {},
   "outputs": [],
   "source": [
    "banks = \"\"\"\n",
    "Алеф-Банк\n",
    "Кузнецкий банк\n",
    "Венец банк\n",
    "Камский коммерческий банк\n",
    "Автоградбанк\n",
    "Акибанк\n",
    "Инбанк\n",
    "НС Банк\n",
    "Сибсоцбанк\n",
    "Банк Снежинский\n",
    "ПСКБ\n",
    "Банк Вологжанин\n",
    "Александровский\n",
    "РосДорБанк\n",
    "Ланта-Банк\n",
    "Первый Клиентский Банк\n",
    "Солид Банк\n",
    "ТЕНДЕР-БАНК\n",
    "Агропромкредит\n",
    "Костромаселькомбанк\n",
    "Тольяттихимбанк\n",
    "Новобанк\n",
    "ЕАТПБанк\n",
    "Кросна-Банк\n",
    "Траст банк\n",
    "Нацинвестпромбанк\n",
    "НРБАНК\n",
    "Фридом Финанс\n",
    "Банк Восточный\n",
    "\"\"\"\n",
    "banks = banks.split('\\n')"
   ]
  },
  {
   "cell_type": "code",
   "execution_count": 4,
   "metadata": {},
   "outputs": [],
   "source": [
    "link_data = pd.read_excel('kommersant_links.xlsx').drop(columns=['Unnamed: 0'])"
   ]
  },
  {
   "cell_type": "code",
   "execution_count": 5,
   "metadata": {},
   "outputs": [
    {
     "name": "stderr",
     "output_type": "stream",
     "text": [
      "Обработка ссылок:  59%|█████▊    | 2802/4778 [2:53:33<3:23:35,  6.18s/it]  "
     ]
    }
   ],
   "source": [
    "link_data = pd.read_excel('kommersant_links.xlsx').drop(columns=['Unnamed: 0'])\n",
    "news = news_parser(personal_login, personal_password, banks, n_pages, auth_type='hand', link_data=link_data)"
   ]
  },
  {
   "cell_type": "code",
   "execution_count": null,
   "metadata": {},
   "outputs": [],
   "source": [
    "link_data.to_excel('Новости коммераснат.xlsx')"
   ]
  },
  {
   "cell_type": "markdown",
   "metadata": {},
   "source": [
    "___"
   ]
  }
 ],
 "metadata": {
  "kernelspec": {
   "display_name": "Python 3",
   "language": "python",
   "name": "python3"
  },
  "language_info": {
   "codemirror_mode": {
    "name": "ipython",
    "version": 3
   },
   "file_extension": ".py",
   "mimetype": "text/x-python",
   "name": "python",
   "nbconvert_exporter": "python",
   "pygments_lexer": "ipython3",
   "version": "3.10.13"
  }
 },
 "nbformat": 4,
 "nbformat_minor": 2
}

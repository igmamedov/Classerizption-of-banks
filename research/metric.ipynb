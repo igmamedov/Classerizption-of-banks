{
 "cells": [
  {
   "cell_type": "markdown",
   "metadata": {},
   "source": [
    "`Доки:` https://github.com/hhromic/python-bcubed"
   ]
  },
  {
   "cell_type": "code",
   "execution_count": 1,
   "metadata": {},
   "outputs": [
    {
     "name": "stdout",
     "output_type": "stream",
     "text": [
      "Defaulting to user installation because normal site-packages is not writeable\n",
      "Collecting bcubed\n",
      "  Downloading bcubed-1.5-py2.py3-none-any.whl.metadata (4.3 kB)\n",
      "Requirement already satisfied: numpy in c:\\users\\user\\appdata\\local\\packages\\pythonsoftwarefoundation.python.3.12_qbz5n2kfra8p0\\localcache\\local-packages\\python312\\site-packages (from bcubed) (1.26.4)\n",
      "Downloading bcubed-1.5-py2.py3-none-any.whl (8.7 kB)\n",
      "Installing collected packages: bcubed\n",
      "Successfully installed bcubed-1.5\n"
     ]
    }
   ],
   "source": [
    "# установка\n",
    "!pip install bcubed"
   ]
  },
  {
   "cell_type": "code",
   "execution_count": 42,
   "metadata": {},
   "outputs": [],
   "source": [
    "import bcubed"
   ]
  },
  {
   "cell_type": "code",
   "execution_count": 43,
   "metadata": {},
   "outputs": [],
   "source": [
    "# golden srandart из индекса Сереги\n",
    "y_true = {\n",
    "    \"bank1\": set([\"1\"]),\n",
    "    \"bank2\": set([\"1\"]),\n",
    "    \"bank3\": set([\"1\"]),\n",
    "    \"bank4\": set([\"1\"]),\n",
    "    \"bank5\": set([\"1\"]),\n",
    "    \"bank6\": set([\"1\"]),\n",
    "}\n",
    "\n",
    "# predict из исследуемой модели\n",
    "y_pred = {\n",
    "    \"bank1\": set([\"2\"]),\n",
    "    \"bank2\": set([\"2\"]),\n",
    "    \"bank3\": set([\"2\"]),\n",
    "    \"bank4\": set([\"1\"]),\n",
    "    \"bank5\": set([\"1\"]),\n",
    "    \"bank6\": set([\"1\"]),\n",
    "}"
   ]
  },
  {
   "cell_type": "code",
   "execution_count": 44,
   "metadata": {},
   "outputs": [],
   "source": [
    "precision = bcubed.precision(y_pred, y_true)\n",
    "recall = bcubed.recall(y_pred, y_true)\n",
    "fscore = bcubed.fscore(precision, recall)"
   ]
  },
  {
   "cell_type": "code",
   "execution_count": 45,
   "metadata": {},
   "outputs": [
    {
     "name": "stdout",
     "output_type": "stream",
     "text": [
      "precision: 1.0\n",
      "recall: 0.5\n",
      "fscore: 0.6666666666666666\n"
     ]
    }
   ],
   "source": [
    "print(f'precision: {precision}')\n",
    "print(f'recall: {recall}')\n",
    "print(f'fscore: {fscore}')"
   ]
  },
  {
   "cell_type": "markdown",
   "metadata": {},
   "source": [
    "___"
   ]
  }
 ],
 "metadata": {
  "kernelspec": {
   "display_name": "Python 3",
   "language": "python",
   "name": "python3"
  },
  "language_info": {
   "codemirror_mode": {
    "name": "ipython",
    "version": 3
   },
   "file_extension": ".py",
   "mimetype": "text/x-python",
   "name": "python",
   "nbconvert_exporter": "python",
   "pygments_lexer": "ipython3",
   "version": "3.12.2"
  }
 },
 "nbformat": 4,
 "nbformat_minor": 2
}

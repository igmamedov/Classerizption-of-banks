{
 "cells": [
  {
   "cell_type": "code",
   "execution_count": null,
   "metadata": {},
   "outputs": [],
   "source": [
    "import pandas as pd\n",
    "import numpy as np\n",
    "import re \n",
    "\n",
    "import requests\n",
    "from bs4 import BeautifulSoup\n",
    "\n",
    "import time\n",
    "\n",
    "#Сбор данных про банки, у которых была отозвана лицензия\n",
    "class License_revoke_list: \n",
    "    def __init__(self):\n",
    "        self.dfs_list = []\n",
    "        self.final_df = pd.DataFrame()\n",
    "\n",
    "    def page_getter(self):\n",
    "        for p in range(5): #5\n",
    "            page = p + 1\n",
    "            url =f'https://www.banki.ru/banks/memory/?sort=date&direction=desc&PAGEN_1={page}'\n",
    "            response = requests.get(url)\n",
    "            soup = BeautifulSoup(response.content, 'html.parser')\n",
    "            yield soup\n",
    "            \n",
    "    def table_getter(self):\n",
    "        for page in self.page_getter():\n",
    "            table = page.find_all('table', {'class' : 'standard-table standard-table--row-highlight margin-bottom-default'})[0]\n",
    "            df = pd.read_html(str(table))[0]\n",
    "            df = df[['банк', 'причина', 'дата отзыва']]\n",
    "            df['дата отзыва'] = pd.to_datetime(df['дата отзыва'], format = \"%d.%m.%Y\")\n",
    "            self.dfs_list.append(df)\n",
    "            print('page_downloaded')\n",
    "\n",
    "    def concatter(self):\n",
    "        self.table_getter()\n",
    "        for table in self.dfs_list:\n",
    "            self.final_df = pd.concat([self.final_df, table])\n",
    "\n",
    "cls = License_revoke_list()\n",
    "cls.concatter()\n",
    "license_revoke_df = cls.final_df\n",
    "\n",
    "cls = License_revoke_list()\n",
    "cls.concatter()\n",
    "license_revoke_df = cls.final_df\n",
    "\n",
    "\n",
    "#Собираем информацию о количестве подразделений каждого банка из ЦБ РФ\n",
    "\n",
    "url = 'https://www.cbr.ru/banking_sector/credit/cstat/'\n",
    "response = requests.get(url)\n",
    "soup = BeautifulSoup(response.content, 'html.parser')\n",
    "table = soup.find_all('table', {'class' : 'data levels'})[0]\n",
    "df = pd.read_html(str(table))[0]\n",
    "df.to_excel('num_offices.xlsx', index= False)"
   ]
  },
  {
   "cell_type": "code",
   "execution_count": 1,
   "metadata": {},
   "outputs": [],
   "source": [
    "import pandas as pd\n",
    "import numpy as np\n",
    "import re \n",
    "\n",
    "import requests\n",
    "from bs4 import BeautifulSoup\n",
    "\n",
    "import time"
   ]
  },
  {
   "cell_type": "markdown",
   "metadata": {},
   "source": [
    "### Собираем список банков у которых была отозвана лицензия"
   ]
  },
  {
   "cell_type": "code",
   "execution_count": 83,
   "metadata": {},
   "outputs": [],
   "source": [
    "class License_revoke_list: \n",
    "    def __init__(self):\n",
    "        self.dfs_list = []\n",
    "        self.final_df = pd.DataFrame()\n",
    "\n",
    "    def page_getter(self):\n",
    "        for p in range(5): #5\n",
    "            page = p + 1\n",
    "            url =f'https://www.banki.ru/banks/memory/?sort=date&direction=desc&PAGEN_1={page}'\n",
    "            response = requests.get(url)\n",
    "            soup = BeautifulSoup(response.content, 'html.parser')\n",
    "            yield soup\n",
    "            \n",
    "    def table_getter(self):\n",
    "        for page in self.page_getter():\n",
    "            table = page.find_all('table', {'class' : 'standard-table standard-table--row-highlight margin-bottom-default'})[0]\n",
    "            df = pd.read_html(str(table))[0]\n",
    "            df = df[['банк', 'причина', 'дата отзыва']]\n",
    "            df['дата отзыва'] = pd.to_datetime(df['дата отзыва'], format = \"%d.%m.%Y\")\n",
    "            self.dfs_list.append(df)\n",
    "            print('page_downloaded')\n",
    "\n",
    "    def concatter(self):\n",
    "        self.table_getter()\n",
    "        for table in self.dfs_list:\n",
    "            self.final_df = pd.concat([self.final_df, table])"
   ]
  },
  {
   "cell_type": "code",
   "execution_count": 84,
   "metadata": {},
   "outputs": [
    {
     "name": "stdout",
     "output_type": "stream",
     "text": [
      "page_downloaded\n",
      "page_downloaded\n",
      "page_downloaded\n",
      "page_downloaded\n",
      "page_downloaded\n"
     ]
    }
   ],
   "source": [
    "cls = License_revoke_list()\n",
    "cls.concatter()\n",
    "license_revoke_df = cls.final_df"
   ]
  },
  {
   "cell_type": "code",
   "execution_count": 86,
   "metadata": {},
   "outputs": [],
   "source": [
    "license_revoke_df.to_excel('license_revoke_df.xlsx', index=False)"
   ]
  },
  {
   "cell_type": "markdown",
   "metadata": {},
   "source": [
    "### Информация о количестве подразделений из цб рф"
   ]
  },
  {
   "cell_type": "code",
   "execution_count": null,
   "metadata": {},
   "outputs": [],
   "source": [
    "url = 'https://www.cbr.ru/banking_sector/credit/cstat/'\n",
    "response = requests.get(url)\n",
    "soup = BeautifulSoup(response.content, 'html.parser')\n",
    "table = soup.find_all('table', {'class' : 'data levels'})[0]\n",
    "df = pd.read_html(str(table))[0]\n",
    "df.to_excel('num_offices.xlsx', index= False)"
   ]
  },
  {
   "cell_type": "code",
   "execution_count": 101,
   "metadata": {},
   "outputs": [],
   "source": [
    "df = df.loc[1:]"
   ]
  },
  {
   "cell_type": "code",
   "execution_count": 118,
   "metadata": {},
   "outputs": [
    {
     "name": "stderr",
     "output_type": "stream",
     "text": [
      "C:\\Users\\Masha\\AppData\\Local\\Temp\\ipykernel_38332\\2265386854.py:7: SettingWithCopyWarning: \n",
      "A value is trying to be set on a copy of a slice from a DataFrame.\n",
      "Try using .loc[row_indexer,col_indexer] = value instead\n",
      "\n",
      "See the caveats in the documentation: https://pandas.pydata.org/pandas-docs/stable/user_guide/indexing.html#returning-a-view-versus-a-copy\n",
      "  df['Всего подразделений'] = df['Всего подразделений'].apply(lambda x: inter(x))\n"
     ]
    }
   ],
   "source": [
    "def inter(x):\n",
    "    try:\n",
    "        return int(x)\n",
    "    except:\n",
    "        return None\n",
    "\n",
    "df['Всего подразделений'] = df['Всего подразделений'].apply(lambda x: inter(x))"
   ]
  },
  {
   "cell_type": "code",
   "execution_count": null,
   "metadata": {},
   "outputs": [],
   "source": [
    "df1 = df.groupby('Наименование КО')[['Всего подразделений']].sum()\n",
    "df1 = df1.reset_index()\n",
    "df2 = df1.sort_values(by = 'Всего подразделений')[7:]\n",
    "df2.to_excel('num_offices_2024.xlsx', index= False)"
   ]
  },
  {
   "cell_type": "code",
   "execution_count": 164,
   "metadata": {},
   "outputs": [],
   "source": [
    "pattern = re.compile(r'Тинькофф') # color, colour - будет засчитано\n",
    "# match = re.findall(pattern, s)"
   ]
  },
  {
   "cell_type": "code",
   "execution_count": 167,
   "metadata": {},
   "outputs": [
    {
     "data": {
      "text/plain": [
       "219    []\n",
       "192    []\n",
       "194    []\n",
       "93     []\n",
       "195    []\n",
       "       ..\n",
       "316    []\n",
       "37     []\n",
       "95     []\n",
       "181    []\n",
       "337    []\n",
       "Name: Наименование КО, Length: 356, dtype: object"
      ]
     },
     "execution_count": 167,
     "metadata": {},
     "output_type": "execute_result"
    }
   ],
   "source": [
    "df2['Наименование КО'].apply(lambda x: re.findall(pattern, x))"
   ]
  },
  {
   "cell_type": "code",
   "execution_count": 186,
   "metadata": {},
   "outputs": [
    {
     "data": {
      "text/html": [
       "<div>\n",
       "<style scoped>\n",
       "    .dataframe tbody tr th:only-of-type {\n",
       "        vertical-align: middle;\n",
       "    }\n",
       "\n",
       "    .dataframe tbody tr th {\n",
       "        vertical-align: top;\n",
       "    }\n",
       "\n",
       "    .dataframe thead th {\n",
       "        text-align: right;\n",
       "    }\n",
       "</style>\n",
       "<table border=\"1\" class=\"dataframe\">\n",
       "  <thead>\n",
       "    <tr style=\"text-align: right;\">\n",
       "      <th></th>\n",
       "      <th>Наименование КО</th>\n",
       "      <th>Всего подразделений</th>\n",
       "    </tr>\n",
       "  </thead>\n",
       "  <tbody>\n",
       "    <tr>\n",
       "      <th>251</th>\n",
       "      <td>ООО «НКО „Вестерн Юнион ДП Восток“</td>\n",
       "      <td>1.0</td>\n",
       "    </tr>\n",
       "    <tr>\n",
       "      <th>163</th>\n",
       "      <td>АО ЮниКредит Банк</td>\n",
       "      <td>58.0</td>\n",
       "    </tr>\n",
       "  </tbody>\n",
       "</table>\n",
       "</div>"
      ],
      "text/plain": [
       "                        Наименование КО  Всего подразделений\n",
       "251  ООО «НКО „Вестерн Юнион ДП Восток“                  1.0\n",
       "163                   АО ЮниКредит Банк                 58.0"
      ]
     },
     "execution_count": 186,
     "metadata": {},
     "output_type": "execute_result"
    }
   ],
   "source": [
    "df2[df2['Наименование КО'].str.contains('Юни')]"
   ]
  },
  {
   "cell_type": "code",
   "execution_count": 187,
   "metadata": {},
   "outputs": [],
   "source": [
    "naming = pd.read_excel('full_dfs/bank_ids.xlsx')"
   ]
  },
  {
   "cell_type": "code",
   "execution_count": 188,
   "metadata": {},
   "outputs": [
    {
     "data": {
      "text/html": [
       "<div>\n",
       "<style scoped>\n",
       "    .dataframe tbody tr th:only-of-type {\n",
       "        vertical-align: middle;\n",
       "    }\n",
       "\n",
       "    .dataframe tbody tr th {\n",
       "        vertical-align: top;\n",
       "    }\n",
       "\n",
       "    .dataframe thead th {\n",
       "        text-align: right;\n",
       "    }\n",
       "</style>\n",
       "<table border=\"1\" class=\"dataframe\">\n",
       "  <thead>\n",
       "    <tr style=\"text-align: right;\">\n",
       "      <th></th>\n",
       "      <th>bank_name</th>\n",
       "      <th>id</th>\n",
       "    </tr>\n",
       "  </thead>\n",
       "  <tbody>\n",
       "    <tr>\n",
       "      <th>0</th>\n",
       "      <td>Сбербанк</td>\n",
       "      <td>322</td>\n",
       "    </tr>\n",
       "    <tr>\n",
       "      <th>1</th>\n",
       "      <td>ВТБ</td>\n",
       "      <td>327</td>\n",
       "    </tr>\n",
       "    <tr>\n",
       "      <th>2</th>\n",
       "      <td>Газпромбанк</td>\n",
       "      <td>2764</td>\n",
       "    </tr>\n",
       "    <tr>\n",
       "      <th>3</th>\n",
       "      <td>Альфа-Банк</td>\n",
       "      <td>325</td>\n",
       "    </tr>\n",
       "    <tr>\n",
       "      <th>4</th>\n",
       "      <td>НКЦ (Национальный клиринговый центр)</td>\n",
       "      <td>191161</td>\n",
       "    </tr>\n",
       "    <tr>\n",
       "      <th>...</th>\n",
       "      <td>...</td>\n",
       "      <td>...</td>\n",
       "    </tr>\n",
       "    <tr>\n",
       "      <th>348</th>\n",
       "      <td>«ИНЭКО»</td>\n",
       "      <td>5011664</td>\n",
       "    </tr>\n",
       "    <tr>\n",
       "      <th>349</th>\n",
       "      <td>ВБРР</td>\n",
       "      <td>16995</td>\n",
       "    </tr>\n",
       "    <tr>\n",
       "      <th>350</th>\n",
       "      <td>ПСБ</td>\n",
       "      <td>5306</td>\n",
       "    </tr>\n",
       "    <tr>\n",
       "      <th>351</th>\n",
       "      <td>СМП Банк</td>\n",
       "      <td>17200</td>\n",
       "    </tr>\n",
       "    <tr>\n",
       "      <th>352</th>\n",
       "      <td>«ПЕРЕСВЕТ»</td>\n",
       "      <td>16957</td>\n",
       "    </tr>\n",
       "  </tbody>\n",
       "</table>\n",
       "<p>353 rows × 2 columns</p>\n",
       "</div>"
      ],
      "text/plain": [
       "                                bank_name       id\n",
       "0                                Сбербанк      322\n",
       "1                                     ВТБ      327\n",
       "2                             Газпромбанк     2764\n",
       "3                              Альфа-Банк      325\n",
       "4    НКЦ (Национальный клиринговый центр)   191161\n",
       "..                                    ...      ...\n",
       "348                               «ИНЭКО»  5011664\n",
       "349                                  ВБРР    16995\n",
       "350                                   ПСБ     5306\n",
       "351                              СМП Банк    17200\n",
       "352                            «ПЕРЕСВЕТ»    16957\n",
       "\n",
       "[353 rows x 2 columns]"
      ]
     },
     "execution_count": 188,
     "metadata": {},
     "output_type": "execute_result"
    }
   ],
   "source": [
    "naming"
   ]
  },
  {
   "cell_type": "code",
   "execution_count": 189,
   "metadata": {},
   "outputs": [
    {
     "data": {
      "text/html": [
       "<div>\n",
       "<style scoped>\n",
       "    .dataframe tbody tr th:only-of-type {\n",
       "        vertical-align: middle;\n",
       "    }\n",
       "\n",
       "    .dataframe tbody tr th {\n",
       "        vertical-align: top;\n",
       "    }\n",
       "\n",
       "    .dataframe thead th {\n",
       "        text-align: right;\n",
       "    }\n",
       "</style>\n",
       "<table border=\"1\" class=\"dataframe\">\n",
       "  <thead>\n",
       "    <tr style=\"text-align: right;\">\n",
       "      <th></th>\n",
       "      <th>Наименование КО</th>\n",
       "      <th>Всего подразделений</th>\n",
       "    </tr>\n",
       "  </thead>\n",
       "  <tbody>\n",
       "    <tr>\n",
       "      <th>219</th>\n",
       "      <td>НКО «МОНЕТА» (ООО)</td>\n",
       "      <td>1.0</td>\n",
       "    </tr>\n",
       "    <tr>\n",
       "      <th>192</th>\n",
       "      <td>ИНГ БАНК (ЕВРАЗИЯ) АО</td>\n",
       "      <td>1.0</td>\n",
       "    </tr>\n",
       "    <tr>\n",
       "      <th>194</th>\n",
       "      <td>КБ «Гарант-Инвест» (АО)</td>\n",
       "      <td>1.0</td>\n",
       "    </tr>\n",
       "    <tr>\n",
       "      <th>93</th>\n",
       "      <td>АО «РФК-банк»</td>\n",
       "      <td>1.0</td>\n",
       "    </tr>\n",
       "    <tr>\n",
       "      <th>195</th>\n",
       "      <td>КБ «Дж.П. Морган Банк Интернешнл» (ООО)</td>\n",
       "      <td>1.0</td>\n",
       "    </tr>\n",
       "    <tr>\n",
       "      <th>...</th>\n",
       "      <td>...</td>\n",
       "      <td>...</td>\n",
       "    </tr>\n",
       "    <tr>\n",
       "      <th>316</th>\n",
       "      <td>ПАО «Промсвязьбанк»</td>\n",
       "      <td>851.0</td>\n",
       "    </tr>\n",
       "    <tr>\n",
       "      <th>37</th>\n",
       "      <td>АО «АЛЬФА-БАНК»</td>\n",
       "      <td>1259.0</td>\n",
       "    </tr>\n",
       "    <tr>\n",
       "      <th>95</th>\n",
       "      <td>АО «Россельхозбанк»</td>\n",
       "      <td>1394.0</td>\n",
       "    </tr>\n",
       "    <tr>\n",
       "      <th>181</th>\n",
       "      <td>Банк ВТБ (ПАО)</td>\n",
       "      <td>1673.0</td>\n",
       "    </tr>\n",
       "    <tr>\n",
       "      <th>337</th>\n",
       "      <td>ПАО Сбербанк</td>\n",
       "      <td>11746.0</td>\n",
       "    </tr>\n",
       "  </tbody>\n",
       "</table>\n",
       "<p>356 rows × 2 columns</p>\n",
       "</div>"
      ],
      "text/plain": [
       "                             Наименование КО  Всего подразделений\n",
       "219                       НКО «МОНЕТА» (ООО)                  1.0\n",
       "192                    ИНГ БАНК (ЕВРАЗИЯ) АО                  1.0\n",
       "194                  КБ «Гарант-Инвест» (АО)                  1.0\n",
       "93                             АО «РФК-банк»                  1.0\n",
       "195  КБ «Дж.П. Морган Банк Интернешнл» (ООО)                  1.0\n",
       "..                                       ...                  ...\n",
       "316                      ПАО «Промсвязьбанк»                851.0\n",
       "37                           АО «АЛЬФА-БАНК»               1259.0\n",
       "95                       АО «Россельхозбанк»               1394.0\n",
       "181                           Банк ВТБ (ПАО)               1673.0\n",
       "337                             ПАО Сбербанк              11746.0\n",
       "\n",
       "[356 rows x 2 columns]"
      ]
     },
     "execution_count": 189,
     "metadata": {},
     "output_type": "execute_result"
    }
   ],
   "source": [
    "df2"
   ]
  },
  {
   "cell_type": "code",
   "execution_count": null,
   "metadata": {},
   "outputs": [],
   "source": []
  }
 ],
 "metadata": {
  "kernelspec": {
   "display_name": "base",
   "language": "python",
   "name": "python3"
  },
  "language_info": {
   "codemirror_mode": {
    "name": "ipython",
    "version": 3
   },
   "file_extension": ".py",
   "mimetype": "text/x-python",
   "name": "python",
   "nbconvert_exporter": "python",
   "pygments_lexer": "ipython3",
   "version": "3.11.5"
  }
 },
 "nbformat": 4,
 "nbformat_minor": 2
}
